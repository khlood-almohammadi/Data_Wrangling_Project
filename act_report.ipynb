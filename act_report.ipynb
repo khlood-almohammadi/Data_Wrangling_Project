{
 "cells": [
  {
   "cell_type": "markdown",
   "metadata": {},
   "source": [
    "![](p6.png)"
   ]
  },
  {
   "cell_type": "markdown",
   "metadata": {},
   "source": [
    "---\n",
    "---"
   ]
  },
  {
   "cell_type": "markdown",
   "metadata": {},
   "source": [
    ">\"Twitter is one of the most recognisable names in the contemporary tech and media landscapes. At its peak in Q1 2018, it reported 336 million MAU.  Looking to a different measure, December 2013 saw Twitter’s financial peak, with a market cap of $39.34. It has, however, fallen from grace on both counts somewhat in recent years. User numbers fell to 321 million by the end of 2018. We saw a recovery to 330 million in Q1 2019, after which point Twitter has switched to reporting ‘monetizable daily users’, of which there were 145 million in Q3 2019.\"*"
   ]
  },
  {
   "cell_type": "markdown",
   "metadata": {},
   "source": [
    "Dogs are one of the most common pets among the general public. Luxurious clothing stores and cafes are allocated to them (such as the dog cafe in Tokyo). A page is also designated here on Twitter to visit and interact with them about the latest cute diaries of dogs and cute pictures of them.\n",
    "What happened now is that through the files provided by ( Udacity )in the lectures, a number of files have been accessed, where these data will be collected, cleaned and analyzed to produce important and good statistics for readers."
   ]
  },
  {
   "cell_type": "markdown",
   "metadata": {},
   "source": [
    "### - Through the data :\n",
    "What breeds are there, and what is the percentage of each breed among dogs on the Twitter page?\n",
    "First, through the data, we noticed that most of the posts were made on the following platforms: \n",
    "\n",
    "- Twitter for iPhone     189\n",
    "\n",
    "- Vine - Make a Scene      8\n",
    "\n",
    "- TweetDeck                1\n",
    " \n",
    " The total number of dogs = 198 , which is the number of the sample drawn from the data\n",
    "\n",
    "  It consisted of the following factions:\n",
    "        \n",
    "                     A- pupper  , B- doggo  , C- Puppo  , D- floofer\n",
    "  \n",
    "  Formed by these numbers the proportions below:\n"
   ]
  },
  {
   "cell_type": "markdown",
   "metadata": {},
   "source": [
    "![](t1.png)"
   ]
  },
  {
   "cell_type": "markdown",
   "metadata": {},
   "source": [
    "What are dog ratings?\n",
    "There is a story here that is somewhat funny, we noticed that there were exaggerated numbers in the evaluation, the evaluation was supposed to be based on the criteria (1-10), but it seems that some of them were taken by the enthusiasm a little and rated their dogs higher than 10, but unfortunately it was done Amending this defect so that a sample that only meets the required criteria was withdrawn, we note the following :"
   ]
  },
  {
   "cell_type": "markdown",
   "metadata": {},
   "source": [
    "![](t2.png)"
   ]
  },
  {
   "cell_type": "markdown",
   "metadata": {},
   "source": [
    "|  10  |  9  |  8  |  7  |  6  |  5  |  4  |  3  |  2  |  1  | rating_numerator |\n",
    "| --- | --- | --- | --- | --- | --- | --- | --- | --- | --- | --- | \n",
    "| 40 | 14 | 11 | 6 | 1 | - | - | 1 | - | - | Number of dogs |\n"
   ]
  },
  {
   "cell_type": "markdown",
   "metadata": {},
   "source": [
    "40 of the different factions got a rating of 10 \"and they are the majority\", 14 got a rating of 9, 11 out of the group got a rating of 8 ، The following shows a list of some dogs that got 10/10. Good for them"
   ]
  },
  {
   "cell_type": "markdown",
   "metadata": {},
   "source": [
    "![](t3.png)"
   ]
  },
  {
   "cell_type": "markdown",
   "metadata": {},
   "source": [
    "![](t4.png)"
   ]
  },
  {
   "cell_type": "markdown",
   "metadata": {},
   "source": [
    "The following diagram explains the most important perceptions of the link between retweeting and favorites, as it is often the case that a lot of tweets if you get a retweet there is a good percentage that you get to be a favorite also, the circumstance here is not mandatory that every tweet that got a retweet must be a favorite Also, because we note from the following, there are ONE tweets that got a retweet but never received a single preference"
   ]
  },
  {
   "cell_type": "markdown",
   "metadata": {},
   "source": [
    "![](bb2.png)"
   ]
  },
  {
   "attachments": {},
   "cell_type": "markdown",
   "metadata": {},
   "source": [
    "![](tt6.png)"
   ]
  },
  {
   "cell_type": "markdown",
   "metadata": {},
   "source": [
    "![](tt5.png)"
   ]
  },
  {
   "cell_type": "markdown",
   "metadata": {},
   "source": [
    "## Important conclusions through graphic visualization:\n",
    "1) January of 2017 saw the most favorite tweets of a puppy as it was equal to 132 810\n",
    "\n",
    "2) June of 2016 saw the highest number of Retweets for a tweet that included a dog from a dojo as it was equal to 79,515\n",
    "\n",
    "3) We notice that the month of December has a good interaction, \"I mean, a steady interaction on each of the years 2016/2017.\""
   ]
  },
  {
   "cell_type": "markdown",
   "metadata": {},
   "source": [
    "> # Most liked Tweet of 2017"
   ]
  },
  {
   "cell_type": "markdown",
   "metadata": {},
   "source": [
    "![](b1.png)"
   ]
  },
  {
   "cell_type": "markdown",
   "metadata": {},
   "source": [
    "___\n",
    "___"
   ]
  },
  {
   "cell_type": "markdown",
   "metadata": {},
   "source": [
    "# Conclusions:\n",
    "   \n",
    "   \n",
    "\n",
    "1) The tweets were all about 4 types of dog breeds\n",
    "\n",
    "2) The pupper breed formed the majority with 132 dogs, by 66%.\n",
    "\n",
    "3) The floofer strain was the least popular of the four strains, with 2% \"from the sample\".\n",
    "\n",
    "\n",
    "4) There were four different sources that published the changes, most of them via the iPhone mobile app, where they were in the range of 189\n",
    "\n",
    "5) In 2016 /pupper was the most popular tweet Whereas in 2017 / a platoon swapped doggo The first place among the dog factions\n",
    "\n",
    "6) The distribution on the graph shows that 40 tweets received a 10/10 rating"
   ]
  },
  {
   "cell_type": "markdown",
   "metadata": {},
   "source": [
    "# Perceptions:\n",
    "\n",
    ">Based on previous conclusions\n",
    "\n",
    "- 1) The pupper will be the most acquisition and popular among families\n",
    "\n",
    "- 2) The project also demonstrates the popularity of the iPhone device among the general public\n",
    "\n",
    "+ 4)There is an important note that can be used for any e-commerce business Based on previous analyzes, we note that Twitter is in constant activity during the month of June for each of the year 2017/2016, perhaps in some countries it corresponds to special occasions or holidays for them. Also December of the vital months in the mentioned years, this point can be used to support any electronic activity on Twitter"
   ]
  },
  {
   "cell_type": "markdown",
   "metadata": {},
   "source": [
    "![](p8.png)"
   ]
  },
  {
   "cell_type": "markdown",
   "metadata": {},
   "source": [
    "### Resources:"
   ]
  },
  {
   "cell_type": "markdown",
   "metadata": {},
   "source": [
    " * [twitter-statistics](https://www.businessofapps.com/data/twitter-statistics/)"
   ]
  }
 ],
 "metadata": {
  "kernelspec": {
   "display_name": "Python 3",
   "language": "python",
   "name": "python3"
  },
  "language_info": {
   "codemirror_mode": {
    "name": "ipython",
    "version": 3
   },
   "file_extension": ".py",
   "mimetype": "text/x-python",
   "name": "python",
   "nbconvert_exporter": "python",
   "pygments_lexer": "ipython3",
   "version": "3.8.3"
  }
 },
 "nbformat": 4,
 "nbformat_minor": 4
}
